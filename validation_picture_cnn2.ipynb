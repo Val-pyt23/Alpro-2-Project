{
 "cells": [
  {
   "cell_type": "code",
   "execution_count": 19,
   "metadata": {},
   "outputs": [],
   "source": [
    "import cv2 as cv\n",
    "import numpy as np\n",
    "from imblearn.over_sampling import SMOTE\n",
    "from sklearn.model_selection import train_test_split\n",
    "import os"
   ]
  },
  {
   "cell_type": "code",
   "execution_count": 20,
   "metadata": {},
   "outputs": [],
   "source": [
    "random_dir = \"E:\\\\tugas semester 3\\\\Alpro 2\\\\tugas akhir\\\\dataset\\\\gambar_random_512\"\n",
    "chest_xray_dir = \"E:\\\\tugas semester 3\\\\Alpro 2\\\\tugas akhir\\\\dataset\\\\chest_xray\"\n",
    "\n",
    "images = []\n",
    "labels = []\n",
    "imagesize = 256"
   ]
  },
  {
   "cell_type": "code",
   "execution_count": 21,
   "metadata": {},
   "outputs": [
    {
     "name": "stdout",
     "output_type": "stream",
     "text": [
      "Skipping invalid file: E:\\tugas semester 3\\Alpro 2\\tugas akhir\\dataset\\gambar_random_512\\Screenshot-2024-06-12-at-11.02.19 AM-1024x462.jpg\n"
     ]
    }
   ],
   "source": [
    "# gambar random (kelas 0)\n",
    "\n",
    "for x in os.listdir(random_dir):\n",
    "    imagedir = os.path.join(random_dir, x)\n",
    "    image = cv.imread(imagedir, cv.IMREAD_GRAYSCALE)\n",
    "    if image is None:  # Cek apakah file berhasil dibaca\n",
    "        print(f\"Skipping invalid file: {imagedir}\")\n",
    "        continue\n",
    "    image = cv.resize(image, (imagesize, imagesize))\n",
    "    images.append(image)\n",
    "    labels.append(0)\n",
    "\n",
    "# gambar rontgent paru-paru (kelas 1)\n",
    "\n",
    "for y in os.listdir(chest_xray_dir):\n",
    "    imagedir = os.path.join(chest_xray_dir, y)\n",
    "    image = cv.imread(imagedir, cv.IMREAD_GRAYSCALE)\n",
    "    if image is None:  # Cek apakah file berhasil dibaca\n",
    "        print(f\"Skipping invalid file: {imagedir}\")\n",
    "        continue\n",
    "    image = cv.resize(image, (imagesize, imagesize))\n",
    "    images.append(image)\n",
    "    labels.append(1)\n"
   ]
  },
  {
   "cell_type": "code",
   "execution_count": 22,
   "metadata": {},
   "outputs": [],
   "source": [
    "images = np.array(images)\n",
    "labels = np.array(labels)\n",
    "\n",
    "imagetrain, imagetest, labeltrain, labeltest = train_test_split(images,labels,test_size=0.3,random_state=42)\n",
    "imagetrain = (imagetrain.astype('float32'))/255\n",
    "imagetest = (imagetest.astype('float32'))/255"
   ]
  },
  {
   "cell_type": "code",
   "execution_count": 26,
   "metadata": {},
   "outputs": [
    {
     "ename": "ValueError",
     "evalue": "cannot reshape array of size 45809664 into shape (2940,65536)",
     "output_type": "error",
     "traceback": [
      "\u001b[1;31m---------------------------------------------------------------------------\u001b[0m",
      "\u001b[1;31mValueError\u001b[0m                                Traceback (most recent call last)",
      "Cell \u001b[1;32mIn[26], line 2\u001b[0m\n\u001b[0;32m      1\u001b[0m \u001b[38;5;66;03m#Flattening the image array into 2D (making it [2940 images] x [all the pixels of the image in just one 1D array]) to be suitable for SMOTE oversampling\u001b[39;00m\n\u001b[1;32m----> 2\u001b[0m imagetrain \u001b[38;5;241m=\u001b[39m \u001b[43mimagetrain\u001b[49m\u001b[38;5;241;43m.\u001b[39;49m\u001b[43mreshape\u001b[49m\u001b[43m(\u001b[49m\u001b[38;5;241;43m2940\u001b[39;49m\u001b[43m,\u001b[49m\u001b[43m \u001b[49m\u001b[43m(\u001b[49m\u001b[43mimagesize\u001b[49m\u001b[38;5;241;43m*\u001b[39;49m\u001b[43mimagesize\u001b[49m\u001b[43m)\u001b[49m\u001b[43m)\u001b[49m\n\u001b[0;32m      4\u001b[0m \u001b[38;5;66;03m#Performing oversampling\u001b[39;00m\n\u001b[0;32m      5\u001b[0m smote \u001b[38;5;241m=\u001b[39m SMOTE(random_state\u001b[38;5;241m=\u001b[39m\u001b[38;5;241m42\u001b[39m)\n",
      "\u001b[1;31mValueError\u001b[0m: cannot reshape array of size 45809664 into shape (2940,65536)"
     ]
    }
   ],
   "source": [
    "#Flattening the image array into 2D (making it [2940 images] x [all the pixels of the image in just one 1D array]) to be suitable for SMOTE oversampling\n",
    "imagetrain = imagetrain.reshape(2940, (imagesize*imagesize))\n",
    "\n",
    "#Performing oversampling\n",
    "smote = SMOTE(random_state=42)\n",
    "imagetrain, labeltrain = smote.fit_resample(imagetrain, labeltrain)\n",
    "\n",
    "#Unflattening the images now to use them for convolutional neural network (4914 images of 256x256 size, with 1 color channel (grayscale, as compared to RGB with 3 color channels))\n",
    "imagetrain = imagetrain.reshape(-1, imagesize, imagesize, 1)\n",
    "print(imagetrain.shape)"
   ]
  },
  {
   "cell_type": "code",
   "execution_count": 25,
   "metadata": {},
   "outputs": [
    {
     "name": "stdout",
     "output_type": "stream",
     "text": [
      "(array([0, 1]), array([344, 355], dtype=int64))\n"
     ]
    }
   ],
   "source": [
    "print(np.unique(labeltrain,return_counts=True))"
   ]
  },
  {
   "cell_type": "code",
   "execution_count": null,
   "metadata": {},
   "outputs": [],
   "source": []
  }
 ],
 "metadata": {
  "kernelspec": {
   "display_name": "base",
   "language": "python",
   "name": "python3"
  },
  "language_info": {
   "codemirror_mode": {
    "name": "ipython",
    "version": 3
   },
   "file_extension": ".py",
   "mimetype": "text/x-python",
   "name": "python",
   "nbconvert_exporter": "python",
   "pygments_lexer": "ipython3",
   "version": "3.10.11"
  }
 },
 "nbformat": 4,
 "nbformat_minor": 2
}
